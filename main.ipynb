{
 "cells": [
  {
   "cell_type": "code",
   "execution_count": 2,
   "metadata": {},
   "outputs": [],
   "source": [
    "from snowflake.snowpark import Session\n",
    "\n",
    "from configparser import ConfigParser\n",
    "\n",
    "config = ConfigParser()\n",
    "config.read('config.ini')\n",
    "\n",
    "connection_parameters: dict[str, int | str] = {\n",
    "    'user' : config.get('SNOWFLAKE', 'USER'),\n",
    "    'password' : config.get('SNOWFLAKE', 'PASSWORD'),\n",
    "    'account' : config.get('SNOWFLAKE', 'ACCOUNT'),\n",
    "    'database' : config.get('SNOWFLAKE', 'DATABASE'),\n",
    "    'warehouse' : config.get('SNOWFLAKE', 'WAREHOUSE'),\n",
    "    'schema' : config.get('SNOWFLAKE', 'SCHEMA'),\n",
    "    'role' : config.get('SNOWFLAKE', 'ROLE'),\n",
    "}\n",
    "\n",
    "session = Session.builder.configs(connection_parameters).create()"
   ]
  },
  {
   "cell_type": "code",
   "execution_count": 3,
   "metadata": {},
   "outputs": [
    {
     "name": "stdout",
     "output_type": "stream",
     "text": [
      "-------------------------------------------------------------------------------------------------------------------------------------------------------------------------------------------------------------------------------------------\n",
      "|\"EMAIL\"                          |\"TRANSACTION_ID\"  |\"POS_TRANSACTION_KEY\"  |\"CHECK_AMOUNT\"  |\"CREATED_AT\"         |\"LAST_UPDATED_AT\"    |\"RETAILER_STORE_ID\"  |\"STORE_NAME\"          |\"CHANNEL\"         |\"TRANSACTION_DATE\"  |\"SOURCE\"  |\n",
      "-------------------------------------------------------------------------------------------------------------------------------------------------------------------------------------------------------------------------------------------\n",
      "|joseabrahame@gmail.com           |0357237955        |481038246196461228     |179.00          |2023-03-03 12:31:14  |2023-03-03 12:31:16  |38246                |AV LAS AMERICAS       |Pago APP          |2023-03-03          |LOYALTY   |\n",
      "|nparga@hotmail.com               |0357206632        |481038481280411143     |50.00           |2023-03-03 11:43:47  |2023-03-03 11:43:48  |38481                |ALFONSO REYES         |Pago APP          |2023-03-03          |LOYALTY   |\n",
      "|ginacorralso8@hotmail.com        |0357195205        |811263445              |80.00           |2023-03-03 11:27:24  |2023-03-03 11:27:25  |38332                |TEC GUADALAJARA       |Pick up           |2023-03-03          |LOYALTY   |\n",
      "|mariotorrescano@hotmail.com      |0357240448        |481038875258301233     |39.00           |2023-03-03 12:34:47  |2023-03-03 12:34:49  |38875                |RINCON DE LA FLORIDA  |Pago APP          |2023-03-03          |LOYALTY   |\n",
      "|nayeli061200@outlook.com         |0357611695        |481038497213452030     |39.00           |2023-03-03 20:32:55  |2023-03-03 20:32:57  |38497                |5 DE MAYO             |Pago APP          |2023-03-03          |LOYALTY   |\n",
      "|carolymey@hotmail.com            |0357623293        |481038658287332047     |47.00           |2023-03-03 20:49:48  |2023-03-03 20:49:49  |38658                |PLAZA DELTA II        |Pago APP          |2023-03-03          |LOYALTY   |\n",
      "|andy.corted@gmail.com            |0357627626        |481038368254392054     |110.00          |2023-03-03 20:56:39  |2023-03-03 20:56:40  |38368                |LUNA PARK             |Pago APP          |2023-03-03          |LOYALTY   |\n",
      "|esandoval7@yahoo.com.mx          |0357611626        |481038496290932031     |196.00          |2023-03-03 20:32:49  |2023-03-03 20:32:50  |38496                |TAXQUENA              |Pago Card Fisica  |2023-03-03          |LOYALTY   |\n",
      "|ricardo.parra.alvarez@gmail.com  |0357623355        |481038224290932048     |27.00           |2023-03-03 20:49:52  |2023-03-03 20:49:53  |38224                |REVOLUCION            |Pago APP          |2023-03-03          |LOYALTY   |\n",
      "|frida997@gmail.com               |0357658893        |481038114263222157     |73.00           |2023-03-03 21:58:43  |2023-03-03 21:58:44  |38114                |MIRAMONTES            |Pago APP          |2023-03-03          |LOYALTY   |\n",
      "-------------------------------------------------------------------------------------------------------------------------------------------------------------------------------------------------------------------------------------------\n",
      "\n"
     ]
    }
   ],
   "source": [
    "session.table('SEGMENT_EVENTS.SESSIONM_SBX.FACT_TRANSACTIONS').show()"
   ]
  }
 ],
 "metadata": {
  "kernelspec": {
   "display_name": "env",
   "language": "python",
   "name": "python3"
  },
  "language_info": {
   "codemirror_mode": {
    "name": "ipython",
    "version": 3
   },
   "file_extension": ".py",
   "mimetype": "text/x-python",
   "name": "python",
   "nbconvert_exporter": "python",
   "pygments_lexer": "ipython3",
   "version": "3.10.11"
  },
  "orig_nbformat": 4
 },
 "nbformat": 4,
 "nbformat_minor": 2
}
