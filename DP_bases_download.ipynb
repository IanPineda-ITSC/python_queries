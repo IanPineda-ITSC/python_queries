{
 "cells": [
  {
   "cell_type": "code",
   "execution_count": 2,
   "metadata": {},
   "outputs": [
    {
     "name": "stdout",
     "output_type": "stream",
     "text": [
      "   ANIO  SEMANA                              PROMO                      EMAIL  \\\n",
      "0  2023      46  PROMO_POST_DOMINOSMANIA_NOVIEMBRE   galleta.sesual@gmail.com   \n",
      "1  2023      46  PROMO_POST_DOMINOSMANIA_NOVIEMBRE  diegomanjarrez3@gmail.com   \n",
      "2  2023      46  PROMO_POST_DOMINOSMANIA_NOVIEMBRE      lpadilla001@gmail.com   \n",
      "3  2023      46  PROMO_POST_DOMINOSMANIA_NOVIEMBRE      gatobeto.25@gmail.com   \n",
      "4  2023      46  PROMO_POST_DOMINOSMANIA_NOVIEMBRE  chavezvictoriop@gmail.com   \n",
      "\n",
      "  PHONENUMBER         NAME      GRUPO           SEGMENTO  APP_INSTALADA  \\\n",
      "0  0000000000       Evelyn  PROMOCION          INACTIVOS           True   \n",
      "1  0000000000        Diego  PROMOCION  MEDIUM_HIGH_VALUE           True   \n",
      "2  0000000000        Lidia  PROMOCION          LOW_VALUE           True   \n",
      "3  0000000000      Alberto  PROMOCION   MEDIUM_LOW_VALUE           True   \n",
      "4  0000000000  Paulo Cesar  PROMOCION          INACTIVOS           True   \n",
      "\n",
      "  TIEMPO_DE_ENTREGA        TIPO  \n",
      "0               <30  PUSH+EMAIL  \n",
      "1              None  PUSH+EMAIL  \n",
      "2               <30  PUSH+EMAIL  \n",
      "3               <30  PUSH+EMAIL  \n",
      "4              None  PUSH+EMAIL  \n",
      "   ANIO  SEMANA                         PROMO  \\\n",
      "0  2023      44  PROMO_DOMINOSMANIA_NOVIEMBRE   \n",
      "1  2023      44  PROMO_DOMINOSMANIA_NOVIEMBRE   \n",
      "2  2023      44  PROMO_DOMINOSMANIA_NOVIEMBRE   \n",
      "3  2023      44  PROMO_DOMINOSMANIA_NOVIEMBRE   \n",
      "4  2023      44  PROMO_DOMINOSMANIA_NOVIEMBRE   \n",
      "\n",
      "                              EMAIL PHONENUMBER     NAME      GRUPO  SEGMENTO  \\\n",
      "0               aricelflo@gmail.com  9982240851  Celeste  PROMOCION  PERDIDOS   \n",
      "1             blackbeto47@gmail.com  3319712714  Alberto  PROMOCION  PERDIDOS   \n",
      "2              f493109750@gmail.com  9841658935      Fer  PROMOCION  PERDIDOS   \n",
      "3  phantomrider_bizarre@hotmail.com  5621130865    Dania    CONTROL  PERDIDOS   \n",
      "4          nmartine@chedraui.com.mx  5511038004    Norma  PROMOCION  PERDIDOS   \n",
      "\n",
      "   APP_INSTALADA TIEMPO_DE_ENTREGA        TIPO  \n",
      "0          False               <30  SOLO_EMAIL  \n",
      "1          False               <30  SOLO_EMAIL  \n",
      "2          False               <30  SOLO_EMAIL  \n",
      "3          False               <30  SOLO_EMAIL  \n",
      "4          False               <30  SOLO_EMAIL  \n"
     ]
    }
   ],
   "source": [
    "import os\n",
    "\n",
    "from configparser import ConfigParser\n",
    "\n",
    "from snowflake.connector import connect\n",
    "\n",
    "import pandas as pd\n",
    "\n",
    "def bool_to_app_instalada(input: bool) -> str:\n",
    "    return 'PUSH' if input else 'EMAIL'\n",
    "\n",
    "config = ConfigParser()\n",
    "config.read('config.ini')\n",
    "\n",
    "conn = connect(\n",
    "    user = config.get('SNOWFLAKE', 'USER'),\n",
    "    password = config.get('SNOWFLAKE', 'PASSWORD'),\n",
    "    account = config.get('SNOWFLAKE', 'ACCOUNT'),\n",
    "    database = config.get('SNOWFLAKE', 'DATABASE'),\n",
    "    warehouse = config.get('SNOWFLAKE', 'WAREHOUSE'),\n",
    "    schema = config.get('SNOWFLAKE', 'SCHEMA'),\n",
    "    role = config.get('SNOWFLAKE', 'ROLE'),\n",
    ")\n",
    "\n",
    "cur = conn.cursor()\n",
    "cur.execute(\"\"\"\n",
    "    SELECT\n",
    "        *\n",
    "    FROM\n",
    "        WOW_REWARDS.SEGMENTACION_DOMINOS.SEGMENTACION_JULIO\n",
    "    WHERE\n",
    "        SEMANA = 46\n",
    "    AND\n",
    "    (\n",
    "        PHONENUMBER IS NOT null\n",
    "        AND\n",
    "        APP_INSTALADA\n",
    "    )\n",
    "    AND\n",
    "        NAME IS NOT null\n",
    "    ORDER BY\n",
    "        PHONENUMBER\n",
    "    -- PUSH + EMAIL\n",
    "    ;\n",
    "\"\"\")\n",
    "\n",
    "df = cur.fetch_pandas_all()\n",
    "\n",
    "df['TIPO'] = 'PUSH+EMAIL'\n",
    "\n",
    "print(df.head())\n",
    "\n",
    "df_list:list[tuple[tuple[str, str, str], pd.DataFrame]] = [tup for tup in df.groupby(['GRUPO', 'SEGMENTO', 'TIPO'])]\n",
    "\n",
    "for item in df_list:\n",
    "    name =  'Segmentacion_post_dominosmania_noviembre' + '_' + item[0][0] + '_' + item[0][1] + '_' + item[0][2] + '.csv'\n",
    "\n",
    "    dir = './' + item[0][0]\n",
    "    if not os.path.exists(dir):\n",
    "        os.mkdir(dir)\n",
    "\n",
    "    dir = './' + item[0][0] + '/' + item[0][2]\n",
    "    if not os.path.exists(dir):\n",
    "        os.mkdir(dir)\n",
    "\n",
    "    item[1].to_csv(dir + '/' + name, index=False)\n",
    "\n",
    "cur = conn.cursor()\n",
    "cur.execute(\"\"\"\n",
    "    SELECT\n",
    "        *\n",
    "    FROM\n",
    "        WOW_REWARDS.SEGMENTACION_DOMINOS.SEGMENTACION_JULIO\n",
    "    WHERE\n",
    "        SEMANA = 44\n",
    "    AND\n",
    "    (\n",
    "        PHONENUMBER IS null\n",
    "        OR\n",
    "        NOT APP_INSTALADA\n",
    "    )\n",
    "    ;\n",
    "\"\"\")\n",
    "\n",
    "df = cur.fetch_pandas_all()\n",
    "\n",
    "df['TIPO'] = 'SOLO_EMAIL'\n",
    "\n",
    "print(df.head())\n",
    "\n",
    "df_list:list[tuple[tuple[str, str, str], pd.DataFrame]] = [tup for tup in df.groupby(['GRUPO', 'SEGMENTO', 'TIPO'])]\n",
    "\n",
    "for item in df_list:\n",
    "    name =  'Segmentacion_post_dominosmania_noviembre' + '_' + item[0][0] + '_' + item[0][1] + '_' + item[0][2] + '.csv'\n",
    "\n",
    "    dir = './' + item[0][0]\n",
    "    if not os.path.exists(dir):\n",
    "        os.mkdir(dir)\n",
    "\n",
    "    dir = './' + item[0][0] + '/' + item[0][2]\n",
    "    if not os.path.exists(dir):\n",
    "        os.mkdir(dir)\n",
    "\n",
    "    item[1].to_csv(dir + '/' + name, index=False)\n",
    "\n",
    "    cur = conn.cursor()"
   ]
  },
  {
   "cell_type": "code",
   "execution_count": 7,
   "metadata": {},
   "outputs": [
    {
     "name": "stdout",
     "output_type": "stream",
     "text": [
      "2148082\n",
      "2148082\n"
     ]
    }
   ],
   "source": [
    "usuarios_por_ciudad = pd.concat([\n",
    "    pd.read_csv('./usuarios_con_ciudad_activos.csv'),\n",
    "    pd.read_csv('./usuarios_con_ciudad_inactivos.csv')\n",
    "])"
   ]
  },
  {
   "cell_type": "code",
   "execution_count": 18,
   "metadata": {},
   "outputs": [],
   "source": [
    "push_email_promocion = pd.concat([\n",
    "    pd.read_csv('PROMOCION/PUSH+EMAIL/Segmentacion_post_dominosmania_noviembre_PROMOCION_LOW_VALUE_PUSH+EMAIL.csv'),\n",
    "    pd.read_csv('PROMOCION/PUSH+EMAIL/Segmentacion_post_dominosmania_noviembre_PROMOCION_MEDIUM_LOW_VALUE_PUSH+EMAIL.csv'),\n",
    "    pd.read_csv('PROMOCION/PUSH+EMAIL/Segmentacion_post_dominosmania_noviembre_PROMOCION_MEDIUM_HIGH_VALUE_PUSH+EMAIL.csv'),\n",
    "    pd.read_csv('PROMOCION/PUSH+EMAIL/Segmentacion_post_dominosmania_noviembre_PROMOCION_INACTIVOS_PUSH+EMAIL.csv')\n",
    "])\n",
    "\n",
    "push_email_promocion_con_ciudad = pd.merge(push_email_promocion, usuarios_por_ciudad, on = 'EMAIL')\n",
    "push_email_promocion_sin_ciudad = push_email_promocion[~push_email_promocion['EMAIL'].isin(usuarios_por_ciudad['EMAIL'])]\n",
    "\n",
    "push_email_promocion_con_ciudad.to_csv('PROMOCION/PUSH+EMAIL/Segmentacion_post_dominosmania_noviembre_CON_CIUDAD.csv')\n",
    "push_email_promocion_sin_ciudad.to_csv('PROMOCION/PUSH+EMAIL/Segmentacion_post_dominosmania_noviembre_SIN_CIUDAD.csv')"
   ]
  },
  {
   "cell_type": "code",
   "execution_count": 19,
   "metadata": {},
   "outputs": [
    {
     "name": "stderr",
     "output_type": "stream",
     "text": [
      "C:\\Users\\ITSC360 - 11\\AppData\\Local\\Temp\\ipykernel_21592\\598638192.py:2: DtypeWarning: Columns (5) have mixed types. Specify dtype option on import or set low_memory=False.\n",
      "  pd.read_csv('PROMOCION/SOLO_EMAIL/Segmentacion_post_dominosmania_noviembre_PROMOCION_LOW_VALUE_SOLO_EMAIL.csv'),\n"
     ]
    }
   ],
   "source": [
    "solo_email_promocion = pd.concat([\n",
    "    pd.read_csv('PROMOCION/SOLO_EMAIL/Segmentacion_post_dominosmania_noviembre_PROMOCION_LOW_VALUE_SOLO_EMAIL.csv'),\n",
    "    pd.read_csv('PROMOCION/SOLO_EMAIL/Segmentacion_post_dominosmania_noviembre_PROMOCION_MEDIUM_LOW_VALUE_SOLO_EMAIL.csv'),\n",
    "    pd.read_csv('PROMOCION/SOLO_EMAIL/Segmentacion_post_dominosmania_noviembre_PROMOCION_MEDIUM_HIGH_VALUE_SOLO_EMAIL.csv'),\n",
    "    pd.read_csv('PROMOCION/SOLO_EMAIL/Segmentacion_post_dominosmania_noviembre_PROMOCION_INACTIVOS_SOLO_EMAIL.csv')\n",
    "])\n",
    "\n",
    "solo_email_promocion_con_ciudad = pd.merge(solo_email_promocion, usuarios_por_ciudad, on = 'EMAIL')\n",
    "solo_email_promocion_sin_ciudad = solo_email_promocion[~solo_email_promocion['EMAIL'].isin(usuarios_por_ciudad['EMAIL'])]\n",
    "\n",
    "solo_email_promocion_con_ciudad.to_csv('PROMOCION/SOLO_EMAIL/Segmentacion_post_dominosmania_noviembre_CON_CIUDAD.csv')\n",
    "solo_email_promocion_sin_ciudad.to_csv('PROMOCION/SOLO_EMAIL/Segmentacion_post_dominosmania_noviembre_SIN_CIUDAD.csv')"
   ]
  },
  {
   "cell_type": "code",
   "execution_count": 21,
   "metadata": {},
   "outputs": [],
   "source": [
    "dfs:dict[str, pd.DataFrame] = {}\n",
    "\n",
    "dfs['LOW_VALUE'] = pd.read_csv('PROMOCION/PUSH+EMAIL/Segmentacion_post_dominosmania_noviembre_PROMOCION_LOW_VALUE_PUSH+EMAIL.csv')\n",
    "dfs['MEDIUM_LOW_VALUE'] = pd.read_csv('PROMOCION/PUSH+EMAIL/Segmentacion_post_dominosmania_noviembre_PROMOCION_MEDIUM_LOW_VALUE_PUSH+EMAIL.csv')\n",
    "dfs['MEDIUM_HIGH_VALUE'] = pd.read_csv('PROMOCION/PUSH+EMAIL/Segmentacion_post_dominosmania_noviembre_PROMOCION_MEDIUM_HIGH_VALUE_PUSH+EMAIL.csv')\n",
    "dfs['INACTIVOS'] = pd.read_csv('PROMOCION/PUSH+EMAIL/Segmentacion_post_dominosmania_noviembre_PROMOCION_INACTIVOS_PUSH+EMAIL.csv')\n",
    "\n",
    "for name in dfs:\n",
    "    pd.merge(dfs[name], usuarios_por_ciudad, on = 'EMAIL', how = 'left').to_csv(f'PROMOCION/PUSH+EMAIL/Segmentacion_post_dominosmania_noviembre_PUSH_{name}.csv')"
   ]
  },
  {
   "cell_type": "code",
   "execution_count": 22,
   "metadata": {},
   "outputs": [
    {
     "name": "stderr",
     "output_type": "stream",
     "text": [
      "C:\\Users\\ITSC360 - 11\\AppData\\Local\\Temp\\ipykernel_21592\\396975891.py:3: DtypeWarning: Columns (6) have mixed types. Specify dtype option on import or set low_memory=False.\n",
      "  pd.read_csv('PROMOCION/SOLO_EMAIL/Segmentacion_post_dominosmania_noviembre_CON_CIUDAD.csv')\n"
     ]
    }
   ],
   "source": [
    "pd.concat([\n",
    "    pd.read_csv('PROMOCION/PUSH+EMAIL/Segmentacion_post_dominosmania_noviembre_CON_CIUDAD.csv'),\n",
    "    pd.read_csv('PROMOCION/SOLO_EMAIL/Segmentacion_post_dominosmania_noviembre_CON_CIUDAD.csv')\n",
    "]).to_csv('./Segmentacion_post_dominosmania_noviembre_CON_CIUDAD.csv')\n",
    "\n",
    "pd.concat([\n",
    "    pd.read_csv('PROMOCION/PUSH+EMAIL/Segmentacion_post_dominosmania_noviembre_SIN_CIUDAD.csv'),\n",
    "    pd.read_csv('PROMOCION/SOLO_EMAIL/Segmentacion_post_dominosmania_noviembre_SIN_CIUDAD.csv')\n",
    "]).to_csv('./Segmentacion_post_dominosmania_noviembre_SIN_CIUDAD.csv')"
   ]
  }
 ],
 "metadata": {
  "kernelspec": {
   "display_name": "env",
   "language": "python",
   "name": "python3"
  },
  "language_info": {
   "codemirror_mode": {
    "name": "ipython",
    "version": 3
   },
   "file_extension": ".py",
   "mimetype": "text/x-python",
   "name": "python",
   "nbconvert_exporter": "python",
   "pygments_lexer": "ipython3",
   "version": "3.10.11"
  }
 },
 "nbformat": 4,
 "nbformat_minor": 2
}
