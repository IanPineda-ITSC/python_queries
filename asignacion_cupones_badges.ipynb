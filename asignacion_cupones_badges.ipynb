{
 "cells": [
  {
   "cell_type": "code",
   "execution_count": 2,
   "metadata": {},
   "outputs": [],
   "source": [
    "import pandas as pd\n",
    "import numpy as np\n",
    "from snowflake.snowpark import Session\n",
    "from configparser import ConfigParser\n",
    "\n",
    "config = ConfigParser()\n",
    "config.read('config.ini')\n",
    "\n",
    "connection_parameters: dict[str, int | str] = {\n",
    "    'user' : config.get('SNOWFLAKE', 'USER'),\n",
    "    'password' : config.get('SNOWFLAKE', 'PASSWORD'),\n",
    "    'account' : config.get('SNOWFLAKE', 'ACCOUNT'),\n",
    "    'database' : config.get('SNOWFLAKE', 'DATABASE'),\n",
    "    'warehouse' : config.get('SNOWFLAKE', 'WAREHOUSE'),\n",
    "    'schema' : config.get('SNOWFLAKE', 'SCHEMA'),\n",
    "    'role' : config.get('SNOWFLAKE', 'ROLE'),\n",
    "}\n",
    "\n",
    "session = Session.builder.configs(connection_parameters).create()"
   ]
  },
  {
   "cell_type": "code",
   "execution_count": 29,
   "metadata": {},
   "outputs": [
    {
     "name": "stderr",
     "output_type": "stream",
     "text": [
      "C:\\Users\\ITSC360 - 11\\AppData\\Local\\Temp\\ipykernel_33676\\1307714301.py:7: SettingWithCopyWarning: \n",
      "A value is trying to be set on a copy of a slice from a DataFrame.\n",
      "Try using .loc[row_indexer,col_indexer] = value instead\n",
      "\n",
      "See the caveats in the documentation: https://pandas.pydata.org/pandas-docs/stable/user_guide/indexing.html#returning-a-view-versus-a-copy\n",
      "  visitas_bk['TOTAL_OFFERS'] = visitas_bk['TOTAL_OFFERS'] - 1\n",
      "C:\\Users\\ITSC360 - 11\\AppData\\Local\\Temp\\ipykernel_33676\\1307714301.py:7: SettingWithCopyWarning: \n",
      "A value is trying to be set on a copy of a slice from a DataFrame.\n",
      "Try using .loc[row_indexer,col_indexer] = value instead\n",
      "\n",
      "See the caveats in the documentation: https://pandas.pydata.org/pandas-docs/stable/user_guide/indexing.html#returning-a-view-versus-a-copy\n",
      "  visitas_bk['TOTAL_OFFERS'] = visitas_bk['TOTAL_OFFERS'] - 1\n",
      "C:\\Users\\ITSC360 - 11\\AppData\\Local\\Temp\\ipykernel_33676\\1307714301.py:7: SettingWithCopyWarning: \n",
      "A value is trying to be set on a copy of a slice from a DataFrame.\n",
      "Try using .loc[row_indexer,col_indexer] = value instead\n",
      "\n",
      "See the caveats in the documentation: https://pandas.pydata.org/pandas-docs/stable/user_guide/indexing.html#returning-a-view-versus-a-copy\n",
      "  visitas_bk['TOTAL_OFFERS'] = visitas_bk['TOTAL_OFFERS'] - 1\n",
      "C:\\Users\\ITSC360 - 11\\AppData\\Local\\Temp\\ipykernel_33676\\1307714301.py:7: SettingWithCopyWarning: \n",
      "A value is trying to be set on a copy of a slice from a DataFrame.\n",
      "Try using .loc[row_indexer,col_indexer] = value instead\n",
      "\n",
      "See the caveats in the documentation: https://pandas.pydata.org/pandas-docs/stable/user_guide/indexing.html#returning-a-view-versus-a-copy\n",
      "  visitas_bk['TOTAL_OFFERS'] = visitas_bk['TOTAL_OFFERS'] - 1\n"
     ]
    }
   ],
   "source": [
    "visitas_bk = pd.read_csv('badges_activos.csv')\n",
    "\n",
    "res = []\n",
    "\n",
    "while len(visitas_bk) > 0:\n",
    "    res.append(visitas_bk)\n",
    "    visitas_bk['TOTAL_OFFERS'] = visitas_bk['TOTAL_OFFERS'] - 1\n",
    "    visitas_bk = visitas_bk[visitas_bk['TOTAL_OFFERS'] > 0]\n",
    "\n",
    "usuarios_por_asignar = pd.concat(res)\n",
    "\n",
    "usuarios_por_asignar[['OFFER_ID', 'EMAIL', 'USER_ID']]\n",
    "\n",
    "nuggets = pd.read_excel('BK_Badges1_nuggets.xlsx')\n",
    "nuggets['OFFER_ID'] = 1\n",
    "\n",
    "king_pollo = pd.read_excel('BK_Badges1_king_pollo.xlsx')\n",
    "king_pollo['OFFER_ID'] = 2\n",
    "\n",
    "banquete = pd.read_excel('BK_Badges3_banquete_8pax.xlsx')\n",
    "banquete['OFFER_ID'] = 3\n",
    "\n",
    "folios = pd.concat([nuggets, king_pollo, banquete])\n",
    "\n",
    "usuarios_por_asignar['RN'] = (\n",
    "    usuarios_por_asignar\n",
    "    .groupby(['OFFER_ID'])\n",
    "    .cumcount() + 1\n",
    ")\n",
    "\n",
    "folios['RN'] = (\n",
    "    folios\n",
    "    .groupby(['OFFER_ID'])\n",
    "    .cumcount() + 1\n",
    ")\n",
    "\n",
    "pd.merge(usuarios_por_asignar, folios, on = ['OFFER_ID', 'RN']).to_csv('cupones_badges_asignados.csv')"
   ]
  }
 ],
 "metadata": {
  "kernelspec": {
   "display_name": "env",
   "language": "python",
   "name": "python3"
  },
  "language_info": {
   "codemirror_mode": {
    "name": "ipython",
    "version": 3
   },
   "file_extension": ".py",
   "mimetype": "text/x-python",
   "name": "python",
   "nbconvert_exporter": "python",
   "pygments_lexer": "ipython3",
   "version": "3.10.11"
  }
 },
 "nbformat": 4,
 "nbformat_minor": 2
}
