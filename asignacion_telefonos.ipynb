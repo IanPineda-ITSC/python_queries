{
 "cells": [
  {
   "cell_type": "code",
   "execution_count": 1,
   "metadata": {},
   "outputs": [],
   "source": [
    "from snowflake.snowpark import Session\n",
    "\n",
    "from configparser import ConfigParser\n",
    "\n",
    "config = ConfigParser()\n",
    "config.read('config.ini')\n",
    "\n",
    "connection_parameters: dict[str, int | str] = {\n",
    "    'user' : config.get('SNOWFLAKE', 'USER'),\n",
    "    'password' : config.get('SNOWFLAKE', 'PASSWORD'),\n",
    "    'account' : config.get('SNOWFLAKE', 'ACCOUNT'),\n",
    "    'database' : config.get('SNOWFLAKE', 'DATABASE'),\n",
    "    'warehouse' : config.get('SNOWFLAKE', 'WAREHOUSE'),\n",
    "    'schema' : config.get('SNOWFLAKE', 'SCHEMA'),\n",
    "    'role' : config.get('SNOWFLAKE', 'ROLE'),\n",
    "}\n",
    "\n",
    "session = Session.builder.configs(connection_parameters).create()"
   ]
  },
  {
   "cell_type": "code",
   "execution_count": 2,
   "metadata": {},
   "outputs": [],
   "source": [
    "from snowflake.snowpark.functions import last_value, col\n",
    "from DP_transacciones_total import get_transacciones_dp_total\n",
    "from snowflake.snowpark import Window\n",
    "import pandas as pd\n",
    "\n",
    "sabana_datos_olo = session.table('SEGMENT_EVENTS.SABANA_DATOS.SABANA_DATOS_OLO').select(['EMAIL', 'PHONE']).to_pandas()\n",
    "\n",
    "window = Window.partition_by('EMAIL').order_by('FECHA')\n",
    "\n",
    "alt_telefonos = get_transacciones_dp_total(session).filter(col('PHONE').is_not_null()).select(['EMAIL', last_value(col('PHONE')).over(window)]).distinct().to_pandas()"
   ]
  },
  {
   "cell_type": "code",
   "execution_count": 3,
   "metadata": {},
   "outputs": [],
   "source": [
    "ganadores = pd.read_excel('Lista_F1_aream.xlsx')\n",
    "\n",
    "con_telefono = ganadores.merge(sabana_datos_olo, how = 'inner', on = 'EMAIL').to_excel('Lista_F1_aream_pt1.xlsx', index = False)\n",
    "\n",
    "sin_telefono = ganadores[~ganadores['EMAIL'].isin(sabana_datos_olo['EMAIL'])]\n",
    "\n",
    "con_telefono_pt2 = sin_telefono.merge(alt_telefonos, how = 'inner', on = 'EMAIL').to_excel('Lista_F1_aream_pt2.xlsx', index = False)"
   ]
  }
 ],
 "metadata": {
  "kernelspec": {
   "display_name": "env",
   "language": "python",
   "name": "python3"
  },
  "language_info": {
   "codemirror_mode": {
    "name": "ipython",
    "version": 3
   },
   "file_extension": ".py",
   "mimetype": "text/x-python",
   "name": "python",
   "nbconvert_exporter": "python",
   "pygments_lexer": "ipython3",
   "version": "3.10.11"
  }
 },
 "nbformat": 4,
 "nbformat_minor": 2
}
