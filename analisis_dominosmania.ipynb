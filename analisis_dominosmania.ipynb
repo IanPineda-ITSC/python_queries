{
 "cells": [
  {
   "cell_type": "markdown",
   "metadata": {},
   "source": [
    "# Analisis Dominosmania"
   ]
  },
  {
   "cell_type": "markdown",
   "metadata": {},
   "source": [
    "## Iniciamos la conexion a snowflake"
   ]
  },
  {
   "cell_type": "code",
   "execution_count": 1,
   "metadata": {},
   "outputs": [],
   "source": [
    "from snowflake.snowpark import Session\n",
    "from configparser import ConfigParser\n",
    "\n",
    "config = ConfigParser()\n",
    "config.read('config.ini')\n",
    "\n",
    "connection_parameters: dict[str, int | str] = {\n",
    "    'user' : config.get('SNOWFLAKE', 'USER'),\n",
    "    'password' : config.get('SNOWFLAKE', 'PASSWORD'),\n",
    "    'account' : config.get('SNOWFLAKE', 'ACCOUNT'),\n",
    "    'database' : config.get('SNOWFLAKE', 'DATABASE'),\n",
    "    'warehouse' : config.get('SNOWFLAKE', 'WAREHOUSE'),\n",
    "    'schema' : config.get('SNOWFLAKE', 'SCHEMA'),\n",
    "    'role' : config.get('SNOWFLAKE', 'ROLE'),\n",
    "}\n",
    "\n",
    "session = Session.builder.configs(connection_parameters).create()"
   ]
  },
  {
   "cell_type": "markdown",
   "metadata": {},
   "source": [
    "## Fechas y cupones de las Dominosmanias"
   ]
  },
  {
   "cell_type": "code",
   "execution_count": 5,
   "metadata": {},
   "outputs": [
    {
     "ename": "TypeError",
     "evalue": "create_dataframe() function only accepts data as a list, tuple or a pandas DataFrame.",
     "output_type": "error",
     "traceback": [
      "\u001b[1;31m---------------------------------------------------------------------------\u001b[0m",
      "\u001b[1;31mTypeError\u001b[0m                                 Traceback (most recent call last)",
      "\u001b[1;32md:\\python_queries\\analisis_dominosmania.ipynb Cell 5\u001b[0m line \u001b[0;36m5\n\u001b[0;32m      <a href='vscode-notebook-cell:/d%3A/python_queries/analisis_dominosmania.ipynb#W4sZmlsZQ%3D%3D?line=0'>1</a>\u001b[0m \u001b[39mimport\u001b[39;00m \u001b[39mpandas\u001b[39;00m \u001b[39mas\u001b[39;00m \u001b[39mpd\u001b[39;00m\n\u001b[0;32m      <a href='vscode-notebook-cell:/d%3A/python_queries/analisis_dominosmania.ipynb#W4sZmlsZQ%3D%3D?line=2'>3</a>\u001b[0m \u001b[39m# xd = pd.DataFrame(pd.read_csv('./dominosmanias.csv'))\u001b[39;00m\n\u001b[1;32m----> <a href='vscode-notebook-cell:/d%3A/python_queries/analisis_dominosmania.ipynb#W4sZmlsZQ%3D%3D?line=4'>5</a>\u001b[0m dominosmanias \u001b[39m=\u001b[39m session\u001b[39m.\u001b[39;49mcreate_dataframe(pd\u001b[39m.\u001b[39;49mread_csv(\u001b[39m'\u001b[39;49m\u001b[39m./dominosmanias.csv\u001b[39;49m\u001b[39m'\u001b[39;49m))\n\u001b[0;32m      <a href='vscode-notebook-cell:/d%3A/python_queries/analisis_dominosmania.ipynb#W4sZmlsZQ%3D%3D?line=5'>6</a>\u001b[0m \u001b[39m# dominosmanias = session.create_dataframe(xd)\u001b[39;00m\n\u001b[0;32m      <a href='vscode-notebook-cell:/d%3A/python_queries/analisis_dominosmania.ipynb#W4sZmlsZQ%3D%3D?line=6'>7</a>\u001b[0m \n\u001b[0;32m      <a href='vscode-notebook-cell:/d%3A/python_queries/analisis_dominosmania.ipynb#W4sZmlsZQ%3D%3D?line=7'>8</a>\u001b[0m \u001b[39m# dominosmanias.show()\u001b[39;00m\n\u001b[0;32m     <a href='vscode-notebook-cell:/d%3A/python_queries/analisis_dominosmania.ipynb#W4sZmlsZQ%3D%3D?line=9'>10</a>\u001b[0m \u001b[39mtype\u001b[39m(pd\u001b[39m.\u001b[39mread_csv(\u001b[39m'\u001b[39m\u001b[39m./dominosmanias.csv\u001b[39m\u001b[39m'\u001b[39m))\n",
      "File \u001b[1;32md:\\python_queries\\env\\lib\\site-packages\\snowflake\\snowpark\\session.py:1981\u001b[0m, in \u001b[0;36mSession.create_dataframe\u001b[1;34m(self, data, schema)\u001b[0m\n\u001b[0;32m   1975\u001b[0m     \u001b[39mraise\u001b[39;00m \u001b[39mTypeError\u001b[39;00m(\u001b[39m\"\u001b[39m\u001b[39mcreate_dataframe() function does not accept a Row object.\u001b[39m\u001b[39m\"\u001b[39m)\n\u001b[0;32m   1977\u001b[0m \u001b[39mif\u001b[39;00m \u001b[39mnot\u001b[39;00m \u001b[39misinstance\u001b[39m(data, (\u001b[39mlist\u001b[39m, \u001b[39mtuple\u001b[39m)) \u001b[39mand\u001b[39;00m (\n\u001b[0;32m   1978\u001b[0m     \u001b[39mnot\u001b[39;00m installed_pandas\n\u001b[0;32m   1979\u001b[0m     \u001b[39mor\u001b[39;00m (installed_pandas \u001b[39mand\u001b[39;00m \u001b[39mnot\u001b[39;00m \u001b[39misinstance\u001b[39m(data, pandas\u001b[39m.\u001b[39mDataFrame))\n\u001b[0;32m   1980\u001b[0m ):\n\u001b[1;32m-> 1981\u001b[0m     \u001b[39mraise\u001b[39;00m \u001b[39mTypeError\u001b[39;00m(\n\u001b[0;32m   1982\u001b[0m         \u001b[39m\"\u001b[39m\u001b[39mcreate_dataframe() function only accepts data as a list, tuple or a pandas DataFrame.\u001b[39m\u001b[39m\"\u001b[39m\n\u001b[0;32m   1983\u001b[0m     )\n\u001b[0;32m   1985\u001b[0m \u001b[39m# check to see if it is a Pandas DataFrame and if so, write that to a temp\u001b[39;00m\n\u001b[0;32m   1986\u001b[0m \u001b[39m# table and return as a DataFrame\u001b[39;00m\n\u001b[0;32m   1987\u001b[0m \u001b[39mif\u001b[39;00m installed_pandas \u001b[39mand\u001b[39;00m \u001b[39misinstance\u001b[39m(data, pandas\u001b[39m.\u001b[39mDataFrame):\n",
      "\u001b[1;31mTypeError\u001b[0m: create_dataframe() function only accepts data as a list, tuple or a pandas DataFrame."
     ]
    }
   ],
   "source": [
    "import pandas as pd\n",
    "\n",
    "dominosmanias = session.create_dataframe(pd.read_csv('./dominosmanias.csv'))\n",
    "\n",
    "dominosmanias.show()"
   ]
  },
  {
   "cell_type": "markdown",
   "metadata": {},
   "source": [
    "## Analisis de recompra"
   ]
  },
  {
   "cell_type": "markdown",
   "metadata": {},
   "source": [
    "### Clientes que entraron por Dominosmania (Nuevos clientes y recurrentes)"
   ]
  },
  {
   "cell_type": "code",
   "execution_count": null,
   "metadata": {},
   "outputs": [
    {
     "ename": "NameError",
     "evalue": "name 'dominosmanias' is not defined",
     "output_type": "error",
     "traceback": [
      "\u001b[1;31m---------------------------------------------------------------------------\u001b[0m",
      "\u001b[1;31mNameError\u001b[0m                                 Traceback (most recent call last)",
      "\u001b[1;32md:\\python_queries\\analisis_dominosmania.ipynb Cell 8\u001b[0m line \u001b[0;36m9\n\u001b[0;32m      <a href='vscode-notebook-cell:/d%3A/python_queries/analisis_dominosmania.ipynb#X10sZmlsZQ%3D%3D?line=2'>3</a>\u001b[0m \u001b[39mfrom\u001b[39;00m \u001b[39msnowflake\u001b[39;00m\u001b[39m.\u001b[39;00m\u001b[39msnowpark\u001b[39;00m\u001b[39m.\u001b[39;00m\u001b[39mfunctions\u001b[39;00m \u001b[39mimport\u001b[39;00m lit\n\u001b[0;32m      <a href='vscode-notebook-cell:/d%3A/python_queries/analisis_dominosmania.ipynb#X10sZmlsZQ%3D%3D?line=4'>5</a>\u001b[0m transacciones_dp \u001b[39m=\u001b[39m get_transacciones_dp_total(session)\n\u001b[0;32m      <a href='vscode-notebook-cell:/d%3A/python_queries/analisis_dominosmania.ipynb#X10sZmlsZQ%3D%3D?line=6'>7</a>\u001b[0m clientes_nuevos \u001b[39m=\u001b[39m (\n\u001b[0;32m      <a href='vscode-notebook-cell:/d%3A/python_queries/analisis_dominosmania.ipynb#X10sZmlsZQ%3D%3D?line=7'>8</a>\u001b[0m     get_primeras_compras(session, transacciones_dp)\n\u001b[1;32m----> <a href='vscode-notebook-cell:/d%3A/python_queries/analisis_dominosmania.ipynb#X10sZmlsZQ%3D%3D?line=8'>9</a>\u001b[0m     \u001b[39m.\u001b[39mjoin(dominosmanias, on \u001b[39m=\u001b[39m \u001b[39m'\u001b[39m\u001b[39mFECHA\u001b[39m\u001b[39m'\u001b[39m)\n\u001b[0;32m     <a href='vscode-notebook-cell:/d%3A/python_queries/analisis_dominosmania.ipynb#X10sZmlsZQ%3D%3D?line=9'>10</a>\u001b[0m     \u001b[39m.\u001b[39mselect([\u001b[39m'\u001b[39m\u001b[39mEMAIL\u001b[39m\u001b[39m'\u001b[39m, \u001b[39m'\u001b[39m\u001b[39mNOMBRE\u001b[39m\u001b[39m'\u001b[39m])\n\u001b[0;32m     <a href='vscode-notebook-cell:/d%3A/python_queries/analisis_dominosmania.ipynb#X10sZmlsZQ%3D%3D?line=10'>11</a>\u001b[0m     \u001b[39m.\u001b[39mdistinct()\n\u001b[0;32m     <a href='vscode-notebook-cell:/d%3A/python_queries/analisis_dominosmania.ipynb#X10sZmlsZQ%3D%3D?line=11'>12</a>\u001b[0m     \u001b[39m.\u001b[39mwith_column(\u001b[39m'\u001b[39m\u001b[39mTIPO\u001b[39m\u001b[39m'\u001b[39m, lit(\u001b[39m'\u001b[39m\u001b[39mNUEVO\u001b[39m\u001b[39m'\u001b[39m))\n\u001b[0;32m     <a href='vscode-notebook-cell:/d%3A/python_queries/analisis_dominosmania.ipynb#X10sZmlsZQ%3D%3D?line=12'>13</a>\u001b[0m )\n\u001b[0;32m     <a href='vscode-notebook-cell:/d%3A/python_queries/analisis_dominosmania.ipynb#X10sZmlsZQ%3D%3D?line=14'>15</a>\u001b[0m clientes_existentes \u001b[39m=\u001b[39m (\n\u001b[0;32m     <a href='vscode-notebook-cell:/d%3A/python_queries/analisis_dominosmania.ipynb#X10sZmlsZQ%3D%3D?line=15'>16</a>\u001b[0m     transacciones_dp\n\u001b[0;32m     <a href='vscode-notebook-cell:/d%3A/python_queries/analisis_dominosmania.ipynb#X10sZmlsZQ%3D%3D?line=16'>17</a>\u001b[0m     \u001b[39m.\u001b[39mjoin(dominosmanias, on \u001b[39m=\u001b[39m \u001b[39m'\u001b[39m\u001b[39mFECHA\u001b[39m\u001b[39m'\u001b[39m)\n\u001b[1;32m   (...)\u001b[0m\n\u001b[0;32m     <a href='vscode-notebook-cell:/d%3A/python_queries/analisis_dominosmania.ipynb#X10sZmlsZQ%3D%3D?line=20'>21</a>\u001b[0m     \u001b[39m.\u001b[39mwith_column(\u001b[39m'\u001b[39m\u001b[39mTIPO\u001b[39m\u001b[39m'\u001b[39m, lit(\u001b[39m'\u001b[39m\u001b[39mEXISTENTE\u001b[39m\u001b[39m'\u001b[39m))\n\u001b[0;32m     <a href='vscode-notebook-cell:/d%3A/python_queries/analisis_dominosmania.ipynb#X10sZmlsZQ%3D%3D?line=21'>22</a>\u001b[0m )\n\u001b[0;32m     <a href='vscode-notebook-cell:/d%3A/python_queries/analisis_dominosmania.ipynb#X10sZmlsZQ%3D%3D?line=23'>24</a>\u001b[0m clientes_que_entraron_por_dominosmania \u001b[39m=\u001b[39m clientes_nuevos\u001b[39m.\u001b[39munion_all(clientes_existentes)\n",
      "\u001b[1;31mNameError\u001b[0m: name 'dominosmanias' is not defined"
     ]
    }
   ],
   "source": [
    "from DP_transacciones_total import get_transacciones_dp_total\n",
    "from general_primeras_compras import get_primeras_compras\n",
    "from snowflake.snowpark.functions import lit\n",
    "\n",
    "transacciones_dp = get_transacciones_dp_total(session)\n",
    "\n",
    "clientes_nuevos = (\n",
    "    get_primeras_compras(session, transacciones_dp)\n",
    "    .join(dominosmanias, on = 'FECHA')\n",
    "    .select(['EMAIL', 'NOMBRE'])\n",
    "    .distinct()\n",
    "    .with_column('TIPO', lit('NUEVO'))\n",
    ")\n",
    "\n",
    "clientes_existentes = (\n",
    "    transacciones_dp\n",
    "    .join(dominosmanias, on = 'FECHA')\n",
    "    .join(clientes_nuevos, on = ['EMAIL', 'NOMBRE'], how = 'LEFTANTI')\n",
    "    .select(['EMAIL', 'NOMBRE'])\n",
    "    .distinct()\n",
    "    .with_column('TIPO', lit('EXISTENTE'))\n",
    ")\n",
    "\n",
    "clientes_que_entraron_por_dominosmania = clientes_nuevos.union_all(clientes_existentes)\n",
    "\n",
    "clientes_que_entraron_por_dominosmania.show()"
   ]
  },
  {
   "cell_type": "markdown",
   "metadata": {},
   "source": [
    "### Cuantos volvieron a comprar? Cual es su frecuencia?"
   ]
  },
  {
   "cell_type": "code",
   "execution_count": 6,
   "metadata": {},
   "outputs": [
    {
     "ename": "NameError",
     "evalue": "name 'dominosmanias' is not defined",
     "output_type": "error",
     "traceback": [
      "\u001b[1;31m---------------------------------------------------------------------------\u001b[0m",
      "\u001b[1;31mNameError\u001b[0m                                 Traceback (most recent call last)",
      "\u001b[1;32md:\\python_queries\\analisis_dominosmania.ipynb Cell 10\u001b[0m line \u001b[0;36m4\n\u001b[0;32m      <a href='vscode-notebook-cell:/d%3A/python_queries/analisis_dominosmania.ipynb#X12sZmlsZQ%3D%3D?line=0'>1</a>\u001b[0m \u001b[39mfrom\u001b[39;00m \u001b[39msnowflake\u001b[39;00m\u001b[39m.\u001b[39;00m\u001b[39msnowpark\u001b[39;00m\u001b[39m.\u001b[39;00m\u001b[39mfunctions\u001b[39;00m \u001b[39mimport\u001b[39;00m \u001b[39mmax\u001b[39m, col, count_distinct, date_add\n\u001b[0;32m      <a href='vscode-notebook-cell:/d%3A/python_queries/analisis_dominosmania.ipynb#X12sZmlsZQ%3D%3D?line=2'>3</a>\u001b[0m transacciones_despues_de_dominosmania \u001b[39m=\u001b[39m (\n\u001b[1;32m----> <a href='vscode-notebook-cell:/d%3A/python_queries/analisis_dominosmania.ipynb#X12sZmlsZQ%3D%3D?line=3'>4</a>\u001b[0m     dominosmanias\n\u001b[0;32m      <a href='vscode-notebook-cell:/d%3A/python_queries/analisis_dominosmania.ipynb#X12sZmlsZQ%3D%3D?line=4'>5</a>\u001b[0m     \u001b[39m.\u001b[39mgroup_by(\u001b[39m'\u001b[39m\u001b[39mNOMBRE\u001b[39m\u001b[39m'\u001b[39m)\n\u001b[0;32m      <a href='vscode-notebook-cell:/d%3A/python_queries/analisis_dominosmania.ipynb#X12sZmlsZQ%3D%3D?line=5'>6</a>\u001b[0m     \u001b[39m.\u001b[39magg(\u001b[39mmax\u001b[39m(\u001b[39m'\u001b[39m\u001b[39mFECHA\u001b[39m\u001b[39m'\u001b[39m)\u001b[39m.\u001b[39malias(\u001b[39m'\u001b[39m\u001b[39mFECHA_FIN\u001b[39m\u001b[39m'\u001b[39m))\n\u001b[0;32m      <a href='vscode-notebook-cell:/d%3A/python_queries/analisis_dominosmania.ipynb#X12sZmlsZQ%3D%3D?line=6'>7</a>\u001b[0m     \u001b[39m.\u001b[39mjoin(clientes_que_entraron_por_dominosmania, on \u001b[39m=\u001b[39m \u001b[39m'\u001b[39m\u001b[39mNOMBRE\u001b[39m\u001b[39m'\u001b[39m)\n\u001b[0;32m      <a href='vscode-notebook-cell:/d%3A/python_queries/analisis_dominosmania.ipynb#X12sZmlsZQ%3D%3D?line=7'>8</a>\u001b[0m     \u001b[39m.\u001b[39mjoin(transacciones_dp, on \u001b[39m=\u001b[39m \u001b[39m'\u001b[39m\u001b[39mEMAIL\u001b[39m\u001b[39m'\u001b[39m)\n\u001b[0;32m      <a href='vscode-notebook-cell:/d%3A/python_queries/analisis_dominosmania.ipynb#X12sZmlsZQ%3D%3D?line=8'>9</a>\u001b[0m     \u001b[39m.\u001b[39mfilter(col(\u001b[39m'\u001b[39m\u001b[39mFECHA\u001b[39m\u001b[39m'\u001b[39m) \u001b[39m>\u001b[39m col(\u001b[39m'\u001b[39m\u001b[39mFECHA_FIN\u001b[39m\u001b[39m'\u001b[39m))\n\u001b[0;32m     <a href='vscode-notebook-cell:/d%3A/python_queries/analisis_dominosmania.ipynb#X12sZmlsZQ%3D%3D?line=9'>10</a>\u001b[0m     \u001b[39m.\u001b[39mfilter(col(\u001b[39m'\u001b[39m\u001b[39mFECHA\u001b[39m\u001b[39m'\u001b[39m) \u001b[39m<\u001b[39m\u001b[39m=\u001b[39m date_add(col(\u001b[39m'\u001b[39m\u001b[39mFECHA_FIN\u001b[39m\u001b[39m'\u001b[39m), \u001b[39m180\u001b[39m))\n\u001b[0;32m     <a href='vscode-notebook-cell:/d%3A/python_queries/analisis_dominosmania.ipynb#X12sZmlsZQ%3D%3D?line=10'>11</a>\u001b[0m )\n\u001b[0;32m     <a href='vscode-notebook-cell:/d%3A/python_queries/analisis_dominosmania.ipynb#X12sZmlsZQ%3D%3D?line=12'>13</a>\u001b[0m volumen_total \u001b[39m=\u001b[39m clientes_que_entraron_por_dominosmania\u001b[39m.\u001b[39mgroup_by([\u001b[39m'\u001b[39m\u001b[39mNOMBRE\u001b[39m\u001b[39m'\u001b[39m, \u001b[39m'\u001b[39m\u001b[39mTIPO\u001b[39m\u001b[39m'\u001b[39m])\u001b[39m.\u001b[39magg(count_distinct(\u001b[39m'\u001b[39m\u001b[39mEMAIL\u001b[39m\u001b[39m'\u001b[39m)\u001b[39m.\u001b[39malias(\u001b[39m'\u001b[39m\u001b[39mCLIENTES\u001b[39m\u001b[39m'\u001b[39m))\n\u001b[0;32m     <a href='vscode-notebook-cell:/d%3A/python_queries/analisis_dominosmania.ipynb#X12sZmlsZQ%3D%3D?line=13'>14</a>\u001b[0m volumen_con_recompra \u001b[39m=\u001b[39m transacciones_despues_de_dominosmania\u001b[39m.\u001b[39mgroup_by([\u001b[39m'\u001b[39m\u001b[39mNOMBRE\u001b[39m\u001b[39m'\u001b[39m, \u001b[39m'\u001b[39m\u001b[39mTIPO\u001b[39m\u001b[39m'\u001b[39m])\u001b[39m.\u001b[39magg(count_distinct(\u001b[39m'\u001b[39m\u001b[39mEMAIL\u001b[39m\u001b[39m'\u001b[39m)\u001b[39m.\u001b[39malias(\u001b[39m'\u001b[39m\u001b[39mCLIENTES_CON_RECOMPRA\u001b[39m\u001b[39m'\u001b[39m), count_distinct(\u001b[39m'\u001b[39m\u001b[39mORDER_ID\u001b[39m\u001b[39m'\u001b[39m)\u001b[39m.\u001b[39malias(\u001b[39m'\u001b[39m\u001b[39mTRANSACCIONES\u001b[39m\u001b[39m'\u001b[39m))\n",
      "\u001b[1;31mNameError\u001b[0m: name 'dominosmanias' is not defined"
     ]
    }
   ],
   "source": [
    "from snowflake.snowpark.functions import max, col, count_distinct, date_add\n",
    "\n",
    "transacciones_despues_de_dominosmania = (\n",
    "    dominosmanias\n",
    "    .group_by('NOMBRE')\n",
    "    .agg(max('FECHA').alias('FECHA_FIN'))\n",
    "    .join(clientes_que_entraron_por_dominosmania, on = 'NOMBRE')\n",
    "    .join(transacciones_dp, on = 'EMAIL')\n",
    "    .filter(col('FECHA') > col('FECHA_FIN'))\n",
    "    .filter(col('FECHA') <= date_add(col('FECHA_FIN'), 180))\n",
    ")\n",
    "\n",
    "volumen_total = clientes_que_entraron_por_dominosmania.group_by(['NOMBRE', 'TIPO']).agg(count_distinct('EMAIL').alias('CLIENTES'))\n",
    "volumen_con_recompra = transacciones_despues_de_dominosmania.group_by(['NOMBRE', 'TIPO']).agg(count_distinct('EMAIL').alias('CLIENTES_CON_RECOMPRA'), count_distinct('ORDER_ID').alias('TRANSACCIONES'))\n",
    "\n",
    "volumen_recompra_y_frecuencia = (\n",
    "    volumen_total\n",
    "    .join(volumen_con_recompra, on = ['NOMBRE', 'TIPO'])\n",
    "    .with_column('Porcentaje con recompra', col('CLIENTES_CON_RECOMPRA') / col('CLIENTES'))\n",
    "    .with_column('Frecuencia', col('TRANSACCIONES') / col('CLIENTES_CON_RECOMPRA'))\n",
    ")\n",
    "\n",
    "volumen_recompra_y_frecuencia.to_pandas().to_csv('wea.csv')"
   ]
  },
  {
   "cell_type": "markdown",
   "metadata": {},
   "source": [
    "### Entendimiento de la composicion de ordenes de la promocionalidad (Dominosmania, otros cupones, full price)"
   ]
  },
  {
   "cell_type": "code",
   "execution_count": null,
   "metadata": {},
   "outputs": [
    {
     "ename": "NameError",
     "evalue": "name 'session' is not defined",
     "output_type": "error",
     "traceback": [
      "\u001b[1;31m---------------------------------------------------------------------------\u001b[0m",
      "\u001b[1;31mNameError\u001b[0m                                 Traceback (most recent call last)",
      "\u001b[1;32md:\\python_queries\\analisis_dominosmania.ipynb Cell 12\u001b[0m line \u001b[0;36m6\n\u001b[0;32m      <a href='vscode-notebook-cell:/d%3A/python_queries/analisis_dominosmania.ipynb#X14sZmlsZQ%3D%3D?line=0'>1</a>\u001b[0m \u001b[39m# (\u001b[39;00m\n\u001b[0;32m      <a href='vscode-notebook-cell:/d%3A/python_queries/analisis_dominosmania.ipynb#X14sZmlsZQ%3D%3D?line=1'>2</a>\u001b[0m \u001b[39m#     session.table('SEGMENT_EVENTS.ALOPERACIONES.TAFDESCUENTOSORDENES3').filter(col('FCIDDESCUENTO').isin([]))\u001b[39;00m\n\u001b[0;32m      <a href='vscode-notebook-cell:/d%3A/python_queries/analisis_dominosmania.ipynb#X14sZmlsZQ%3D%3D?line=2'>3</a>\u001b[0m \u001b[39m# )\u001b[39;00m\n\u001b[0;32m      <a href='vscode-notebook-cell:/d%3A/python_queries/analisis_dominosmania.ipynb#X14sZmlsZQ%3D%3D?line=4'>5</a>\u001b[0m descuentos \u001b[39m=\u001b[39m (\n\u001b[1;32m----> <a href='vscode-notebook-cell:/d%3A/python_queries/analisis_dominosmania.ipynb#X14sZmlsZQ%3D%3D?line=5'>6</a>\u001b[0m     session\n\u001b[0;32m      <a href='vscode-notebook-cell:/d%3A/python_queries/analisis_dominosmania.ipynb#X14sZmlsZQ%3D%3D?line=6'>7</a>\u001b[0m     \u001b[39m.\u001b[39mtable(\u001b[39m'\u001b[39m\u001b[39mSEGMENT_EVENTS.ALMODCOMUN.TACDESCUENTOS\u001b[39m\u001b[39m'\u001b[39m)\n\u001b[0;32m      <a href='vscode-notebook-cell:/d%3A/python_queries/analisis_dominosmania.ipynb#X14sZmlsZQ%3D%3D?line=7'>8</a>\u001b[0m     \u001b[39m.\u001b[39mfilter(\n\u001b[0;32m      <a href='vscode-notebook-cell:/d%3A/python_queries/analisis_dominosmania.ipynb#X14sZmlsZQ%3D%3D?line=8'>9</a>\u001b[0m         col(\u001b[39m'\u001b[39m\u001b[39mFIIDDESCUENTOSRC\u001b[39m\u001b[39m'\u001b[39m)\u001b[39m.\u001b[39mlike(\u001b[39mr\u001b[39m\u001b[39m'\u001b[39m\u001b[39m%\u001b[39m\u001b[39m2D50\u001b[39m\u001b[39m%\u001b[39m\u001b[39m'\u001b[39m) \u001b[39m|\u001b[39m\n\u001b[0;32m     <a href='vscode-notebook-cell:/d%3A/python_queries/analisis_dominosmania.ipynb#X14sZmlsZQ%3D%3D?line=9'>10</a>\u001b[0m         col(\u001b[39m'\u001b[39m\u001b[39mFIIDDESCUENTOSRC\u001b[39m\u001b[39m'\u001b[39m)\u001b[39m.\u001b[39mlike(\u001b[39mr\u001b[39m\u001b[39m'\u001b[39m\u001b[39m%\u001b[39m\u001b[39mD229\u001b[39m\u001b[39m%\u001b[39m\u001b[39m'\u001b[39m) \u001b[39m|\u001b[39m\n\u001b[0;32m     <a href='vscode-notebook-cell:/d%3A/python_queries/analisis_dominosmania.ipynb#X14sZmlsZQ%3D%3D?line=10'>11</a>\u001b[0m         col(\u001b[39m'\u001b[39m\u001b[39mFIIDDESCUENTOSRC\u001b[39m\u001b[39m'\u001b[39m)\u001b[39m.\u001b[39mlike(\u001b[39mr\u001b[39m\u001b[39m'\u001b[39m\u001b[39m%\u001b[39m\u001b[39mDS199\u001b[39m\u001b[39m%\u001b[39m\u001b[39m'\u001b[39m)\n\u001b[0;32m     <a href='vscode-notebook-cell:/d%3A/python_queries/analisis_dominosmania.ipynb#X14sZmlsZQ%3D%3D?line=11'>12</a>\u001b[0m     )\n\u001b[0;32m     <a href='vscode-notebook-cell:/d%3A/python_queries/analisis_dominosmania.ipynb#X14sZmlsZQ%3D%3D?line=12'>13</a>\u001b[0m )\n\u001b[0;32m     <a href='vscode-notebook-cell:/d%3A/python_queries/analisis_dominosmania.ipynb#X14sZmlsZQ%3D%3D?line=14'>15</a>\u001b[0m descuentos\u001b[39m.\u001b[39mshow()\n\u001b[0;32m     <a href='vscode-notebook-cell:/d%3A/python_queries/analisis_dominosmania.ipynb#X14sZmlsZQ%3D%3D?line=15'>16</a>\u001b[0m \u001b[39m# descuentos.to_pandas().to_csv('cupones.csv')\u001b[39;00m\n",
      "\u001b[1;31mNameError\u001b[0m: name 'session' is not defined"
     ]
    }
   ],
   "source": [
    "# (\n",
    "#     session.table('SEGMENT_EVENTS.ALOPERACIONES.TAFDESCUENTOSORDENES3').filter(col('FCIDDESCUENTO').isin([]))\n",
    "# )\n",
    "\n",
    "descuentos = (\n",
    "    session\n",
    "    .table('SEGMENT_EVENTS.ALMODCOMUN.TACDESCUENTOS')\n",
    "    .filter(\n",
    "        col('FIIDDESCUENTOSRC').like(r'%2D50%') |\n",
    "        col('FIIDDESCUENTOSRC').like(r'%D229%') |\n",
    "        col('FIIDDESCUENTOSRC').like(r'%DS199%')\n",
    "    )\n",
    ")\n",
    "\n",
    "descuentos.show()\n",
    "# descuentos.to_pandas().to_csv('cupones.csv')"
   ]
  },
  {
   "cell_type": "markdown",
   "metadata": {},
   "source": [
    "### Cuantos clientes se mantienen o se pierden?"
   ]
  },
  {
   "cell_type": "code",
   "execution_count": 8,
   "metadata": {},
   "outputs": [
    {
     "ename": "SyntaxError",
     "evalue": "invalid syntax (572068987.py, line 19)",
     "output_type": "error",
     "traceback": [
      "\u001b[1;36m  Cell \u001b[1;32mIn[8], line 19\u001b[1;36m\u001b[0m\n\u001b[1;33m    get transacciones_cloud(session)\u001b[0m\n\u001b[1;37m        ^\u001b[0m\n\u001b[1;31mSyntaxError\u001b[0m\u001b[1;31m:\u001b[0m invalid syntax\n"
     ]
    }
   ],
   "source": [
    "from snowflake.snowpark.functions import col, substring, lower, concat\n",
    "from snowflake.snowpark import Session, DataFrame   \n",
    "\n",
    "def get_transacciones_cloud(session: Session) -> DataFrame:\n",
    "    transacciones_cloud = (\n",
    "        session.table('SEGMENT_EVENTS.DOMINOS_GOLO.VENTA_CLOUD')\n",
    "        .filter(~col('STOREID').like('9%'))\n",
    "        .filter(col('SOURCEORGANIZATIONURI').is_not_null())\n",
    "        .filter(col('SOURCEORGANIZATIONURI').isin(['order.dominos.com', 'resp-order.dominos.com', 'iphone.dominos.mx', 'android.dominos.mx']))\n",
    "        .with_column('FECHA', substring(col('STOREORDERID'), 1, 10))\n",
    "        .with_column('EMAIL', lower(col('EMAIL')))\n",
    "        .with_column('ORDER_ID', concat(col('FECHA'), col('STOREID'), col('STOREORDERID')))\n",
    "        .with_column('VENTA', col('PAYMENTSAMOUNT') / 1.16)\n",
    "        .select(['EMAIL', 'FECHA', 'VENTA', 'ORDER_ID', 'PHONE'])\n",
    "    )\n",
    "\n",
    "    return transacciones_cloud\n",
    "\n",
    "get transacciones_cloud(session)"
   ]
  },
  {
   "cell_type": "markdown",
   "metadata": {},
   "source": [
    "### Recuperacion de clientes"
   ]
  },
  {
   "cell_type": "code",
   "execution_count": 9,
   "metadata": {},
   "outputs": [
    {
     "ename": "TypeError",
     "evalue": "get_activos_en_serie_de_tiempo() missing 3 required positional arguments: 'session', 'transacciones_total', and 'serie_de_tiempo'",
     "output_type": "error",
     "traceback": [
      "\u001b[1;31m---------------------------------------------------------------------------\u001b[0m",
      "\u001b[1;31mTypeError\u001b[0m                                 Traceback (most recent call last)",
      "\u001b[1;32md:\\python_queries\\analisis_dominosmania.ipynb Cell 16\u001b[0m line \u001b[0;36m2\n\u001b[0;32m     <a href='vscode-notebook-cell:/d%3A/python_queries/analisis_dominosmania.ipynb#X22sZmlsZQ%3D%3D?line=16'>17</a>\u001b[0m     res \u001b[39m=\u001b[39m (\n\u001b[0;32m     <a href='vscode-notebook-cell:/d%3A/python_queries/analisis_dominosmania.ipynb#X22sZmlsZQ%3D%3D?line=17'>18</a>\u001b[0m         transacciones_total\n\u001b[0;32m     <a href='vscode-notebook-cell:/d%3A/python_queries/analisis_dominosmania.ipynb#X22sZmlsZQ%3D%3D?line=18'>19</a>\u001b[0m         \u001b[39m.\u001b[39mjoin(rangos)\n\u001b[1;32m   (...)\u001b[0m\n\u001b[0;32m     <a href='vscode-notebook-cell:/d%3A/python_queries/analisis_dominosmania.ipynb#X22sZmlsZQ%3D%3D?line=22'>23</a>\u001b[0m         \u001b[39m.\u001b[39magg(count_distinct(\u001b[39m'\u001b[39m\u001b[39mEMAIL\u001b[39m\u001b[39m'\u001b[39m)\u001b[39m.\u001b[39malias(\u001b[39m'\u001b[39m\u001b[39mACTIVOS\u001b[39m\u001b[39m'\u001b[39m))\n\u001b[0;32m     <a href='vscode-notebook-cell:/d%3A/python_queries/analisis_dominosmania.ipynb#X22sZmlsZQ%3D%3D?line=23'>24</a>\u001b[0m     )\n\u001b[0;32m     <a href='vscode-notebook-cell:/d%3A/python_queries/analisis_dominosmania.ipynb#X22sZmlsZQ%3D%3D?line=25'>26</a>\u001b[0m     \u001b[39mreturn\u001b[39;00m res\n\u001b[1;32m---> <a href='vscode-notebook-cell:/d%3A/python_queries/analisis_dominosmania.ipynb#X22sZmlsZQ%3D%3D?line=28'>29</a>\u001b[0m get_activos_en_serie_de_tiempo()\n",
      "\u001b[1;31mTypeError\u001b[0m: get_activos_en_serie_de_tiempo() missing 3 required positional arguments: 'session', 'transacciones_total', and 'serie_de_tiempo'"
     ]
    }
   ],
   "source": [
    "from DP_transacciones_total import get_transacciones_dp_total\n",
    "from general_rangos_de_fecha import get_rangos\n",
    "from snowflake.snowpark import Session, DataFrame\n",
    "from snowflake.snowpark.functions import col, count_distinct\n",
    "from typing import Literal\n",
    "\n",
    "def get_activos_en_serie_de_tiempo(session: Session, transacciones_total:DataFrame, serie_de_tiempo:list[Literal['ANIO_ALSEA', 'MES_ALSEA', 'SEM_ALSEA', 'FECHA']], intervalo_de_dias:int = 180) -> DataFrame:\n",
    "    if ('EMAIL' not in transacciones_total.columns) and ('FECHA' not in transacciones_total.columns):\n",
    "        raise KeyError('El DataFrame de transacciones debe contener las columnas \"EMAIL\" y \"FECHA\"')\n",
    "    elif 'EMAIL' not in transacciones_total.columns:\n",
    "        raise KeyError('El DataFrame de transacciones debe contener una columna \"EMAIL\"')\n",
    "    elif 'FECHA' not in transacciones_total.columns:\n",
    "        raise KeyError('El DataFrame de transacciones debe contener una columna \"FECHA\"')\n",
    "\n",
    "    rangos = get_rangos(session, serie_de_tiempo, {'FECHA_FIN': 0, 'FECHA_INICIO': -intervalo_de_dias})\n",
    "\n",
    "    res = (\n",
    "        transacciones_total\n",
    "        .join(rangos)\n",
    "        .filter(col('FECHA_INICIO') <= col('FECHA'))\n",
    "        .filter(col('FECHA') <= col('FECHA_FIN'))\n",
    "        .group_by('ANIO_ALSEA', 'SEM_ALSEA')\n",
    "        .agg(count_distinct('EMAIL').alias('ACTIVOS'))\n",
    "    )\n",
    "\n",
    "    return res\n",
    "\n",
    "\n",
    "get_activos_en_serie_de_tiempo()"
   ]
  }
 ],
 "metadata": {
  "kernelspec": {
   "display_name": "env",
   "language": "python",
   "name": "python3"
  },
  "language_info": {
   "codemirror_mode": {
    "name": "ipython",
    "version": 3
   },
   "file_extension": ".py",
   "mimetype": "text/x-python",
   "name": "python",
   "nbconvert_exporter": "python",
   "pygments_lexer": "ipython3",
   "version": "3.10.11"
  }
 },
 "nbformat": 4,
 "nbformat_minor": 2
}
