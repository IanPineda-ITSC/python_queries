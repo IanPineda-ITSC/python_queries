{
 "cells": [
  {
   "cell_type": "code",
   "execution_count": 1,
   "metadata": {},
   "outputs": [],
   "source": [
    "from snowflake.snowpark import Session\n",
    "import snowflake.snowpark.functions as fn\n",
    "from datetime import date, timedelta\n",
    "\n",
    "from configparser import ConfigParser\n",
    "\n",
    "config = ConfigParser()\n",
    "config.read('config.ini')\n",
    "\n",
    "connection_parameters: dict[str, int | str] = {\n",
    "    'user' : config.get('SNOWFLAKE', 'USER'),\n",
    "    'password' : config.get('SNOWFLAKE', 'PASSWORD'),\n",
    "    'account' : config.get('SNOWFLAKE', 'ACCOUNT'),\n",
    "    'database' : config.get('SNOWFLAKE', 'DATABASE'),\n",
    "    'warehouse' : config.get('SNOWFLAKE', 'WAREHOUSE'),\n",
    "    'schema' : config.get('SNOWFLAKE', 'SCHEMA'),\n",
    "    'role' : config.get('SNOWFLAKE', 'ROLE'),\n",
    "}\n",
    "\n",
    "session = Session.builder.configs(connection_parameters).create()"
   ]
  },
  {
   "cell_type": "code",
   "execution_count": 2,
   "metadata": {},
   "outputs": [],
   "source": [
    "from DP_transacciones_total import get_transacciones_dp_total\n",
    "from general_primeras_compras import get_primeras_compras\n",
    "from general_get_tiempo import get_tiempo\n",
    "\n",
    "dp_transacciones = (\n",
    "    get_transacciones_dp_total(session)\n",
    "    .filter(fn.col('CANAL').isin('IOS', 'ANDROID'))\n",
    ")\n",
    "\n",
    "dp_primeras_compras = (\n",
    "    get_primeras_compras(dp_transacciones)\n",
    "    .join(get_tiempo(session), on = 'FECHA')\n",
    ")\n",
    "\n",
    "primeras_compras_por_semestre = (\n",
    "    dp_primeras_compras\n",
    "    .filter(fn.col('ANIO_ALSEA') == 2023)\n",
    "    .filter(fn.col('MES_ALSEA').isin(5,6,7,8,9,10))\n",
    "    .agg(fn.count_distinct('EMAIL'))\n",
    ")\n",
    "\n",
    "primeras_compras_por_semestre.to_pandas().to_excel('primeras_compras_MAY-OCT_SOLO_APP.xlsx')"
   ]
  },
  {
   "cell_type": "code",
   "execution_count": 3,
   "metadata": {},
   "outputs": [],
   "source": [
    "import snowflake.snowpark.functions as fn\n",
    "from DP_transacciones_total import get_transacciones_dp_total\n",
    "from general_indicadores import indicadores\n",
    "from DP_indicadores_por_segmento import indicadores_por_segmento\n",
    "from general_get_tiempo import get_tiempo\n",
    "\n",
    "transacciones = (\n",
    "    get_transacciones_dp_total(session)\n",
    "    .filter(fn.col('CANAL').isin('IOS', 'ANDROID'))\n",
    "    .join(get_tiempo(session), on = 'FECHA')\n",
    "    .filter(fn.col('ANIO_ALSEA') == 2023)\n",
    "    .filter(fn.col('MES_ALSEA').isin(5,6,7,8,9,10))\n",
    ")\n",
    "\n",
    "indicadores_por_segmento(transacciones).to_pandas().to_excel('indicadores_por_segmento_MAY-OCT_SOLO_APP.xlsx')\n",
    "\n",
    "indicadores(transacciones).to_pandas().to_excel('indicadores_MAY-OCT_SOLO_APP.xlsx')"
   ]
  }
 ],
 "metadata": {
  "kernelspec": {
   "display_name": "env",
   "language": "python",
   "name": "python3"
  },
  "language_info": {
   "codemirror_mode": {
    "name": "ipython",
    "version": 3
   },
   "file_extension": ".py",
   "mimetype": "text/x-python",
   "name": "python",
   "nbconvert_exporter": "python",
   "pygments_lexer": "ipython3",
   "version": "3.10.11"
  }
 },
 "nbformat": 4,
 "nbformat_minor": 2
}
