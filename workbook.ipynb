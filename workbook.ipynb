{
 "cells": [
  {
   "cell_type": "code",
   "execution_count": 3,
   "metadata": {},
   "outputs": [],
   "source": [
    "from general_session_creator import create_session\n",
    "\n",
    "session = create_session()"
   ]
  },
  {
   "cell_type": "code",
   "execution_count": 6,
   "metadata": {},
   "outputs": [],
   "source": [
    "from DP_transacciones_total import get_transacciones_dp_total\n",
    "from snowflake.snowpark import DataFrame\n",
    "import snowflake.snowpark.functions as fn\n",
    "from datetime import date, timedelta\n",
    "\n",
    "transacciones_dp_total = get_transacciones_dp_total(session)\n",
    "\n",
    "def usuarios_por_numero_de_transacciones(transacciones: DataFrame) -> DataFrame:\n",
    "    return (\n",
    "        transacciones\n",
    "        .group_by('EMAIL')\n",
    "        .agg(fn.count_distinct('ORDER_ID').alias('TRANSACCIONES'))\n",
    "        .with_column(\n",
    "            'NUMERO_DE_TRANSACCIONES',\n",
    "            fn.when(fn.col('TRANSACCIONES') > 10, 11)\n",
    "            .otherwise(fn.col('TRANSACCIONES'))\n",
    "        )\n",
    "        .group_by('NUMERO_DE_TRANSACCIONES')\n",
    "        .agg(fn.count_distinct('EMAIL').alias('USUARIOS'))\n",
    "        .order_by('NUMERO_DE_TRANSACCIONES')\n",
    "    )\n",
    "\n",
    "transacciones_180_dias_corte_octubre = (\n",
    "    transacciones_dp_total\n",
    "    .filter(fn.col('FECHA') <= date.fromisoformat('2023-10-29'))\n",
    "    .filter(date.fromisoformat('2023-10-29') - timedelta(180) <= fn.col('FECHA'))\n",
    ")\n",
    "\n",
    "transacciones_180_dias_corte_abril = (\n",
    "    transacciones_dp_total\n",
    "    .filter(fn.col('FECHA') <= date.fromisoformat('2023-04-30'))\n",
    "    .filter(date.fromisoformat('2023-04-30') - timedelta(180) <= fn.col('FECHA'))\n",
    ")\n",
    "\n",
    "usuarios_por_numero_de_transacciones(transacciones_180_dias_corte_abril).to_pandas().to_csv('txn_180_corte_abril.csv', index = False)\n",
    "usuarios_por_numero_de_transacciones(transacciones_180_dias_corte_octubre).to_pandas().to_csv('txn_180_corte_octubre.csv', index = False)"
   ]
  }
 ],
 "metadata": {
  "kernelspec": {
   "display_name": "env",
   "language": "python",
   "name": "python3"
  },
  "language_info": {
   "name": "python",
   "version": "3.10.11"
  }
 },
 "nbformat": 4,
 "nbformat_minor": 2
}
